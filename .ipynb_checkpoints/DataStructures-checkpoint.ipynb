{
 "cells": [
  {
   "cell_type": "markdown",
   "id": "bf2d0d5d-b208-4848-93c6-58244f7e3060",
   "metadata": {},
   "source": [
    "$\\Large Computational \\ Complexity$"
   ]
  },
  {
   "cell_type": "markdown",
   "id": "d3be8ccd-1985-4558-9b15-dad0f5180d06",
   "metadata": {},
   "source": [
    "Array Class"
   ]
  },
  {
   "cell_type": "code",
   "execution_count": 182,
   "id": "cca0aae1-d7dd-4472-8b33-388cd8a010c4",
   "metadata": {},
   "outputs": [],
   "source": [
    "class CustomArray:\n",
    "    def __init__(self):\n",
    "        self.size   = 0\n",
    "        self.capacity = 0\n",
    "        self.arr       = []\n",
    "        assert self.capacity >= 0, \"Incorrect capacity value\"\n",
    "\n",
    "    def arrSize(self):\n",
    "        return self.size\n",
    "\n",
    "    def isEmpty(self) -> bool:\n",
    "        return self.size==0 \n",
    "\n",
    "    def get(self, index: int):\n",
    "        return self.arr[index]\n",
    "\n",
    "    def set(self, index: int, elem):\n",
    "        self.arr[index] = elem\n",
    "\n",
    "    def clear(self):\n",
    "        for i in range(self.capacity):\n",
    "            self.arr[i] = None\n",
    "        self.size = 0\n",
    "\n",
    "    def add(self, elem):\n",
    "        if self.size+1 >= self.capacity: #5,5\n",
    "            if self.capacity == 0:\n",
    "                self.capacity = 1\n",
    "            else:\n",
    "                self.capacity *= 2\n",
    "            new_arr = [None for i in range(self.capacity)]\n",
    "            for i in range(self.size):\n",
    "                new_arr[i] = self.arr[i]\n",
    "            self.arr = new_arr\n",
    "\n",
    "            self.arr[self.size] = elem\n",
    "            self.size +=1\n",
    "\n",
    "    def removeAt(self, rm_index):\n",
    "        assert rm_index < self.size and rm_index >= 0, \"Incorrect rm_index\"\n",
    "        data = self.arr[rm_index]\n",
    "        new_arr = [None for val in range(self.size-1)]\n",
    "        j = 0\n",
    "        for i in range(self.size): \n",
    "            if i == rm_index:\n",
    "                continue\n",
    "            new_arr[j] = self.arr[i]\n",
    "            j += 1\n",
    "        self.arr = new_arr\n",
    "        self.capacity -= self.size\n",
    "        return data\n",
    "\n",
    "    def remove(self, elem):\n",
    "        for i in range(self.size):\n",
    "            if self.arr[i] == elem:\n",
    "                self.removeAt(i)\n",
    "                return True\n",
    "        return False\n",
    "\n",
    "    def indexOf(self, elem):\n",
    "        for i in range(self.size):\n",
    "            if self.arr[i] == elem:\n",
    "                return i\n",
    "        return -1\n",
    "\n",
    "    def contains(self, elem):\n",
    "        return self.indexOf(elem) != -1\n",
    "\n",
    "    def hasNext(self,index):\n",
    "        return index < self.size-1\n",
    "\n",
    "    def next(self,index):\n",
    "        return self.arr[index+1]\n",
    "\n",
    "    def toString(self):\n",
    "        if self.size==0:\n",
    "            return \"[]\"\n",
    "        else:\n",
    "            t = \"[\"\n",
    "            for i in range(self.size):\n",
    "                t += str(self.arr[i]) + \", \"\n",
    "            return t + \"]\"\n",
    "        "
   ]
  },
  {
   "cell_type": "code",
   "execution_count": 183,
   "id": "1537dc05-22d3-4dc6-be8c-1c190f896290",
   "metadata": {},
   "outputs": [],
   "source": [
    "test_arr = CustomArray()\n"
   ]
  },
  {
   "cell_type": "code",
   "execution_count": 145,
   "id": "93991da7-7d62-482f-9895-d358ad1c43e1",
   "metadata": {},
   "outputs": [
    {
     "data": {
      "text/plain": [
       "False"
      ]
     },
     "execution_count": 145,
     "metadata": {},
     "output_type": "execute_result"
    }
   ],
   "source": [
    "test_arr.arrSize()\n",
    "test_arr.isEmpty()"
   ]
  },
  {
   "cell_type": "code",
   "execution_count": 184,
   "id": "429005d6-17dc-4f12-b0cd-60252ab05c37",
   "metadata": {},
   "outputs": [],
   "source": [
    "for i in [5,4,3,2]:\n",
    "    test_arr.add(i)"
   ]
  },
  {
   "cell_type": "code",
   "execution_count": 195,
   "id": "5f3978fe-ac67-4d4f-a5fa-c3462605c9db",
   "metadata": {},
   "outputs": [
    {
     "data": {
      "text/plain": [
       "'[5, 4, 3, 2, ]'"
      ]
     },
     "execution_count": 195,
     "metadata": {},
     "output_type": "execute_result"
    }
   ],
   "source": [
    "test_arr.toString()"
   ]
  },
  {
   "cell_type": "markdown",
   "id": "90c5b0d9-9de2-47ca-8dcd-a723366b9612",
   "metadata": {},
   "source": [
    "## test_arr.arr"
   ]
  },
  {
   "cell_type": "code",
   "execution_count": 188,
   "id": "d5f0615a-fbac-478c-a046-504f934a773d",
   "metadata": {},
   "outputs": [
    {
     "data": {
      "text/plain": [
       "[5, 4, 3, 2, None, None, None, None]"
      ]
     },
     "execution_count": 188,
     "metadata": {},
     "output_type": "execute_result"
    }
   ],
   "source": [
    "test_arr.arr"
   ]
  },
  {
   "cell_type": "code",
   "execution_count": 166,
   "id": "eecf59ab-acac-4daa-b617-ee4b00228199",
   "metadata": {},
   "outputs": [
    {
     "data": {
      "text/plain": [
       "False"
      ]
     },
     "execution_count": 166,
     "metadata": {},
     "output_type": "execute_result"
    }
   ],
   "source": [
    "test_arr.contains(43)"
   ]
  },
  {
   "cell_type": "code",
   "execution_count": 104,
   "id": "066768b9-1111-4f87-9275-3592f0d37320",
   "metadata": {},
   "outputs": [
    {
     "data": {
      "text/plain": [
       "3"
      ]
     },
     "execution_count": 104,
     "metadata": {},
     "output_type": "execute_result"
    }
   ],
   "source": [
    "test_arr.size\n"
   ]
  },
  {
   "cell_type": "code",
   "execution_count": 92,
   "id": "9a158170-543d-4e8d-bf9b-c300bbc6749a",
   "metadata": {},
   "outputs": [
    {
     "data": {
      "text/plain": [
       "3"
      ]
     },
     "execution_count": 92,
     "metadata": {},
     "output_type": "execute_result"
    }
   ],
   "source": [
    "test_arr.capacity"
   ]
  },
  {
   "cell_type": "code",
   "execution_count": null,
   "id": "ddebc41a-2129-4eb4-ae39-b5f58bae0c6a",
   "metadata": {},
   "outputs": [],
   "source": []
  }
 ],
 "metadata": {
  "kernelspec": {
   "display_name": "Python 3 (ipykernel)",
   "language": "python",
   "name": "python3"
  },
  "language_info": {
   "codemirror_mode": {
    "name": "ipython",
    "version": 3
   },
   "file_extension": ".py",
   "mimetype": "text/x-python",
   "name": "python",
   "nbconvert_exporter": "python",
   "pygments_lexer": "ipython3",
   "version": "3.10.6"
  }
 },
 "nbformat": 4,
 "nbformat_minor": 5
}
